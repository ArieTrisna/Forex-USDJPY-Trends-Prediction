{
 "cells": [
  {
   "attachments": {},
   "cell_type": "markdown",
   "id": "1d71cdc6",
   "metadata": {},
   "source": [
    "# Forex Trend Prediction"
   ]
  },
  {
   "attachments": {},
   "cell_type": "markdown",
   "id": "2d9599f9",
   "metadata": {},
   "source": [
    "Trend Analysis on USDJPY pair and build a model to predict the trend and the price"
   ]
  },
  {
   "cell_type": "code",
   "execution_count": 1,
   "id": "45551dee",
   "metadata": {},
   "outputs": [],
   "source": [
    "# Importing Libraries\n",
    "\n",
    "import pandas as pd\n",
    "import numpy as np\n",
    "import matplotlib.pyplot as plt\n",
    "import seaborn as sns"
   ]
  },
  {
   "cell_type": "markdown",
   "id": "72caada5",
   "metadata": {},
   "source": [
    "## Dataset Load"
   ]
  },
  {
   "cell_type": "code",
   "execution_count": 2,
   "id": "a101c6f0",
   "metadata": {},
   "outputs": [
    {
     "data": {
      "text/html": [
       "<div>\n",
       "<style scoped>\n",
       "    .dataframe tbody tr th:only-of-type {\n",
       "        vertical-align: middle;\n",
       "    }\n",
       "\n",
       "    .dataframe tbody tr th {\n",
       "        vertical-align: top;\n",
       "    }\n",
       "\n",
       "    .dataframe thead th {\n",
       "        text-align: right;\n",
       "    }\n",
       "</style>\n",
       "<table border=\"1\" class=\"dataframe\">\n",
       "  <thead>\n",
       "    <tr style=\"text-align: right;\">\n",
       "      <th></th>\n",
       "      <th>datetime</th>\n",
       "      <th>open</th>\n",
       "      <th>high</th>\n",
       "      <th>low</th>\n",
       "      <th>close</th>\n",
       "    </tr>\n",
       "  </thead>\n",
       "  <tbody>\n",
       "    <tr>\n",
       "      <th>0</th>\n",
       "      <td>2025-07-07</td>\n",
       "      <td>144.48300</td>\n",
       "      <td>144.85001</td>\n",
       "      <td>144.22000</td>\n",
       "      <td>144.80800</td>\n",
       "    </tr>\n",
       "    <tr>\n",
       "      <th>1</th>\n",
       "      <td>2025-07-04</td>\n",
       "      <td>144.91499</td>\n",
       "      <td>144.97099</td>\n",
       "      <td>144.17999</td>\n",
       "      <td>144.44299</td>\n",
       "    </tr>\n",
       "    <tr>\n",
       "      <th>2</th>\n",
       "      <td>2025-07-03</td>\n",
       "      <td>143.65900</td>\n",
       "      <td>145.23399</td>\n",
       "      <td>143.44200</td>\n",
       "      <td>144.90500</td>\n",
       "    </tr>\n",
       "    <tr>\n",
       "      <th>3</th>\n",
       "      <td>2025-07-02</td>\n",
       "      <td>143.42900</td>\n",
       "      <td>144.24400</td>\n",
       "      <td>143.31700</td>\n",
       "      <td>143.61000</td>\n",
       "    </tr>\n",
       "    <tr>\n",
       "      <th>4</th>\n",
       "      <td>2025-07-01</td>\n",
       "      <td>143.99800</td>\n",
       "      <td>144.05099</td>\n",
       "      <td>142.67599</td>\n",
       "      <td>143.38699</td>\n",
       "    </tr>\n",
       "  </tbody>\n",
       "</table>\n",
       "</div>"
      ],
      "text/plain": [
       "     datetime       open       high        low      close\n",
       "0  2025-07-07  144.48300  144.85001  144.22000  144.80800\n",
       "1  2025-07-04  144.91499  144.97099  144.17999  144.44299\n",
       "2  2025-07-03  143.65900  145.23399  143.44200  144.90500\n",
       "3  2025-07-02  143.42900  144.24400  143.31700  143.61000\n",
       "4  2025-07-01  143.99800  144.05099  142.67599  143.38699"
      ]
     },
     "execution_count": 2,
     "metadata": {},
     "output_type": "execute_result"
    }
   ],
   "source": [
    "df = pd.read_csv('/Users/arietrisn/Documents/Career/Data Analyst:Science/Bootcamp/Forex Trend Analysis Project/Dataset/USDJPY_Data.csv')\n",
    "df.head()"
   ]
  },
  {
   "cell_type": "code",
   "execution_count": 3,
   "id": "6bdf8c29",
   "metadata": {},
   "outputs": [
    {
     "data": {
      "text/plain": [
       "(5000, 5)"
      ]
     },
     "execution_count": 3,
     "metadata": {},
     "output_type": "execute_result"
    }
   ],
   "source": [
    "df.shape"
   ]
  },
  {
   "cell_type": "markdown",
   "id": "0149b316",
   "metadata": {},
   "source": [
    "## Data Cleaning"
   ]
  },
  {
   "cell_type": "markdown",
   "id": "e50b57ef",
   "metadata": {},
   "source": [
    "### Missing Value Handling"
   ]
  },
  {
   "cell_type": "code",
   "execution_count": 4,
   "id": "8119c7dc",
   "metadata": {},
   "outputs": [
    {
     "data": {
      "text/plain": [
       "datetime    0\n",
       "open        0\n",
       "high        0\n",
       "low         0\n",
       "close       0\n",
       "dtype: int64"
      ]
     },
     "execution_count": 4,
     "metadata": {},
     "output_type": "execute_result"
    }
   ],
   "source": [
    "df.isna().sum()"
   ]
  },
  {
   "cell_type": "markdown",
   "id": "bbfd5e91",
   "metadata": {},
   "source": [
    "### Duplicate Rows Handling"
   ]
  },
  {
   "cell_type": "code",
   "execution_count": 5,
   "id": "d5122680",
   "metadata": {},
   "outputs": [
    {
     "data": {
      "text/plain": [
       "1.0"
      ]
     },
     "execution_count": 5,
     "metadata": {},
     "output_type": "execute_result"
    }
   ],
   "source": [
    "# Checking Duplicated Row\n",
    "len(df.drop_duplicates()) / len(df)"
   ]
  },
  {
   "cell_type": "markdown",
   "id": "57a02e15",
   "metadata": {},
   "source": [
    "No duplicated rows"
   ]
  },
  {
   "cell_type": "markdown",
   "id": "55097d75",
   "metadata": {},
   "source": [
    "## Data Manipulation"
   ]
  },
  {
   "cell_type": "code",
   "execution_count": 6,
   "id": "1b70b147",
   "metadata": {},
   "outputs": [
    {
     "name": "stdout",
     "output_type": "stream",
     "text": [
      "<class 'pandas.core.frame.DataFrame'>\n",
      "RangeIndex: 5000 entries, 0 to 4999\n",
      "Data columns (total 5 columns):\n",
      " #   Column    Non-Null Count  Dtype  \n",
      "---  ------    --------------  -----  \n",
      " 0   datetime  5000 non-null   object \n",
      " 1   open      5000 non-null   float64\n",
      " 2   high      5000 non-null   float64\n",
      " 3   low       5000 non-null   float64\n",
      " 4   close     5000 non-null   float64\n",
      "dtypes: float64(4), object(1)\n",
      "memory usage: 195.4+ KB\n"
     ]
    }
   ],
   "source": [
    "# Check for xauusd types\n",
    "df.info()"
   ]
  },
  {
   "cell_type": "code",
   "execution_count": 7,
   "id": "e91cd7df",
   "metadata": {},
   "outputs": [
    {
     "data": {
      "text/html": [
       "<div>\n",
       "<style scoped>\n",
       "    .dataframe tbody tr th:only-of-type {\n",
       "        vertical-align: middle;\n",
       "    }\n",
       "\n",
       "    .dataframe tbody tr th {\n",
       "        vertical-align: top;\n",
       "    }\n",
       "\n",
       "    .dataframe thead th {\n",
       "        text-align: right;\n",
       "    }\n",
       "</style>\n",
       "<table border=\"1\" class=\"dataframe\">\n",
       "  <thead>\n",
       "    <tr style=\"text-align: right;\">\n",
       "      <th></th>\n",
       "      <th>datetime</th>\n",
       "      <th>open</th>\n",
       "      <th>high</th>\n",
       "      <th>low</th>\n",
       "      <th>close</th>\n",
       "    </tr>\n",
       "  </thead>\n",
       "  <tbody>\n",
       "    <tr>\n",
       "      <th>0</th>\n",
       "      <td>2025-07-07</td>\n",
       "      <td>144.48300</td>\n",
       "      <td>144.85001</td>\n",
       "      <td>144.22000</td>\n",
       "      <td>144.80800</td>\n",
       "    </tr>\n",
       "    <tr>\n",
       "      <th>1</th>\n",
       "      <td>2025-07-04</td>\n",
       "      <td>144.91499</td>\n",
       "      <td>144.97099</td>\n",
       "      <td>144.17999</td>\n",
       "      <td>144.44299</td>\n",
       "    </tr>\n",
       "    <tr>\n",
       "      <th>2</th>\n",
       "      <td>2025-07-03</td>\n",
       "      <td>143.65900</td>\n",
       "      <td>145.23399</td>\n",
       "      <td>143.44200</td>\n",
       "      <td>144.90500</td>\n",
       "    </tr>\n",
       "    <tr>\n",
       "      <th>3</th>\n",
       "      <td>2025-07-02</td>\n",
       "      <td>143.42900</td>\n",
       "      <td>144.24400</td>\n",
       "      <td>143.31700</td>\n",
       "      <td>143.61000</td>\n",
       "    </tr>\n",
       "    <tr>\n",
       "      <th>4</th>\n",
       "      <td>2025-07-01</td>\n",
       "      <td>143.99800</td>\n",
       "      <td>144.05099</td>\n",
       "      <td>142.67599</td>\n",
       "      <td>143.38699</td>\n",
       "    </tr>\n",
       "  </tbody>\n",
       "</table>\n",
       "</div>"
      ],
      "text/plain": [
       "     datetime       open       high        low      close\n",
       "0  2025-07-07  144.48300  144.85001  144.22000  144.80800\n",
       "1  2025-07-04  144.91499  144.97099  144.17999  144.44299\n",
       "2  2025-07-03  143.65900  145.23399  143.44200  144.90500\n",
       "3  2025-07-02  143.42900  144.24400  143.31700  143.61000\n",
       "4  2025-07-01  143.99800  144.05099  142.67599  143.38699"
      ]
     },
     "execution_count": 7,
     "metadata": {},
     "output_type": "execute_result"
    }
   ],
   "source": [
    "# Change the column name to lowercase\n",
    "df = df.rename(str.lower, axis='columns')\n",
    "df.head()"
   ]
  },
  {
   "cell_type": "code",
   "execution_count": 8,
   "id": "a5225d85",
   "metadata": {},
   "outputs": [
    {
     "name": "stdout",
     "output_type": "stream",
     "text": [
      "<class 'pandas.core.frame.DataFrame'>\n",
      "RangeIndex: 5000 entries, 0 to 4999\n",
      "Data columns (total 5 columns):\n",
      " #   Column    Non-Null Count  Dtype         \n",
      "---  ------    --------------  -----         \n",
      " 0   datetime  5000 non-null   datetime64[ns]\n",
      " 1   open      5000 non-null   float64       \n",
      " 2   high      5000 non-null   float64       \n",
      " 3   low       5000 non-null   float64       \n",
      " 4   close     5000 non-null   float64       \n",
      "dtypes: datetime64[ns](1), float64(4)\n",
      "memory usage: 195.4 KB\n"
     ]
    }
   ],
   "source": [
    "# Date to datetime\n",
    "\n",
    "df['datetime'] = pd.to_datetime(df['datetime'])\n",
    "df.info()"
   ]
  },
  {
   "cell_type": "code",
   "execution_count": 9,
   "id": "c83e1b01",
   "metadata": {},
   "outputs": [
    {
     "data": {
      "text/html": [
       "<div>\n",
       "<style scoped>\n",
       "    .dataframe tbody tr th:only-of-type {\n",
       "        vertical-align: middle;\n",
       "    }\n",
       "\n",
       "    .dataframe tbody tr th {\n",
       "        vertical-align: top;\n",
       "    }\n",
       "\n",
       "    .dataframe thead th {\n",
       "        text-align: right;\n",
       "    }\n",
       "</style>\n",
       "<table border=\"1\" class=\"dataframe\">\n",
       "  <thead>\n",
       "    <tr style=\"text-align: right;\">\n",
       "      <th></th>\n",
       "      <th>datetime</th>\n",
       "      <th>open</th>\n",
       "      <th>high</th>\n",
       "      <th>low</th>\n",
       "      <th>close</th>\n",
       "    </tr>\n",
       "  </thead>\n",
       "  <tbody>\n",
       "    <tr>\n",
       "      <th>0</th>\n",
       "      <td>2025-07-07</td>\n",
       "      <td>144.48300</td>\n",
       "      <td>144.85001</td>\n",
       "      <td>144.22000</td>\n",
       "      <td>144.80800</td>\n",
       "    </tr>\n",
       "    <tr>\n",
       "      <th>1</th>\n",
       "      <td>2025-07-04</td>\n",
       "      <td>144.91499</td>\n",
       "      <td>144.97099</td>\n",
       "      <td>144.17999</td>\n",
       "      <td>144.44299</td>\n",
       "    </tr>\n",
       "    <tr>\n",
       "      <th>2</th>\n",
       "      <td>2025-07-03</td>\n",
       "      <td>143.65900</td>\n",
       "      <td>145.23399</td>\n",
       "      <td>143.44200</td>\n",
       "      <td>144.90500</td>\n",
       "    </tr>\n",
       "    <tr>\n",
       "      <th>3</th>\n",
       "      <td>2025-07-02</td>\n",
       "      <td>143.42900</td>\n",
       "      <td>144.24400</td>\n",
       "      <td>143.31700</td>\n",
       "      <td>143.61000</td>\n",
       "    </tr>\n",
       "    <tr>\n",
       "      <th>4</th>\n",
       "      <td>2025-07-01</td>\n",
       "      <td>143.99800</td>\n",
       "      <td>144.05099</td>\n",
       "      <td>142.67599</td>\n",
       "      <td>143.38699</td>\n",
       "    </tr>\n",
       "  </tbody>\n",
       "</table>\n",
       "</div>"
      ],
      "text/plain": [
       "    datetime       open       high        low      close\n",
       "0 2025-07-07  144.48300  144.85001  144.22000  144.80800\n",
       "1 2025-07-04  144.91499  144.97099  144.17999  144.44299\n",
       "2 2025-07-03  143.65900  145.23399  143.44200  144.90500\n",
       "3 2025-07-02  143.42900  144.24400  143.31700  143.61000\n",
       "4 2025-07-01  143.99800  144.05099  142.67599  143.38699"
      ]
     },
     "execution_count": 9,
     "metadata": {},
     "output_type": "execute_result"
    }
   ],
   "source": [
    "df.head()"
   ]
  },
  {
   "cell_type": "markdown",
   "id": "634852de",
   "metadata": {},
   "source": [
    "## Outlier Checking"
   ]
  },
  {
   "cell_type": "code",
   "execution_count": 10,
   "id": "11abd935",
   "metadata": {},
   "outputs": [
    {
     "data": {
      "image/png": "[encoded data removed]",
      "text/plain": [
       "<Figure size 1200x600 with 4 Axes>"
      ]
     },
     "metadata": {},
     "output_type": "display_data"
    }
   ],
   "source": [
    "# Check for outlier\n",
    "cols = ['close', 'open', 'high', 'low']\n",
    "\n",
    "plt.figure(figsize=(12,6))\n",
    "for i in range(0, len(cols)):\n",
    "    plt.subplot(1, len(cols), i+1)\n",
    "    sns.boxplot(y=df[cols[i]], color='red')\n",
    "    plt.tight_layout()"
   ]
  },
  {
   "cell_type": "markdown",
   "id": "51d5c30d",
   "metadata": {},
   "source": [
    "As we can see the xauusd is quite clean and no need for outlier handling considering the financial market is very volatile"
   ]
  },
  {
   "attachments": {},
   "cell_type": "markdown",
   "id": "3f1510ef",
   "metadata": {},
   "source": [
    "## Extract the clean USDJPY data into csv file"
   ]
  },
  {
   "cell_type": "code",
   "execution_count": 11,
   "id": "03c6f691",
   "metadata": {},
   "outputs": [],
   "source": [
    "df.to_csv('clean_usdjpy.csv', index=False)"
   ]
  }
 ],
 "metadata": {
  "kernelspec": {
   "display_name": "Python 3",
   "language": "python",
   "name": "python3"
  },
  "language_info": {
   "codemirror_mode": {
    "name": "ipython",
    "version": 3
   },
   "file_extension": ".py",
   "mimetype": "text/x-python",
   "name": "python",
   "nbconvert_exporter": "python",
   "pygments_lexer": "ipython3",
   "version": "3.12.7"
  }
 },
 "nbformat": 4,
 "nbformat_minor": 5
}
